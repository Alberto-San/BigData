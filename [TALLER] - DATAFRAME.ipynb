{
  "nbformat": 4,
  "nbformat_minor": 0,
  "metadata": {
    "colab": {
      "provenance": [],
      "collapsed_sections": []
    },
    "kernelspec": {
      "name": "python3",
      "display_name": "Python 3"
    }
  },
  "cells": [
    {
      "cell_type": "code",
      "metadata": {
        "id": "Z7rbDx_-JApm",
        "colab": {
          "base_uri": "https://localhost:8080/"
        },
        "outputId": "64ea81f1-6349-4b22-ffce-57824e36b551"
      },
      "source": [
        "!wget --no-cache -O init.py -q https://raw.githubusercontent.com/UDEA-Esp-Analitica-y-Ciencia-de-Datos/EACD-03-BIGDATA/master/init.py\n",
        "import init; init.init(force_download=False); \n",
        "from IPython.display import Image"
      ],
      "execution_count": 1,
      "outputs": [
        {
          "output_type": "stream",
          "name": "stdout",
          "text": [
            "replicating local resources\n"
          ]
        }
      ]
    },
    {
      "cell_type": "code",
      "metadata": {
        "id": "hDzn_xcpJRWR",
        "colab": {
          "base_uri": "https://localhost:8080/",
          "height": 251
        },
        "outputId": "8eb2ee9b-011b-4c5e-ed38-69c75f3b0667"
      },
      "source": [
        "Image(\"local/imgs/udea-datascience.png\")"
      ],
      "execution_count": 2,
      "outputs": [
        {
          "output_type": "execute_result",
          "data": {
            "image/png": "[encoded data removed]",
            "text/plain": [
              "<IPython.core.display.Image object>"
            ]
          },
          "metadata": {},
          "execution_count": 2
        }
      ]
    },
    {
      "cell_type": "markdown",
      "metadata": {
        "id": "myHD-jFLKEal"
      },
      "source": [
        "# **TALLER 3: DATAFRAME**\n",
        "## Desarrollado por: Mg. Efraín Alberto Oviedo\n",
        "## Universidad de Antioquia"
      ]
    },
    {
      "cell_type": "markdown",
      "metadata": {
        "id": "4GK6iJ1CKS8o"
      },
      "source": [
        "Por favor, ingrese la siguiente información:\n",
        "\n",
        "**Nombre Completo:July Andrea Muñoz Lopera**\n",
        "\n",
        "**Cédula: 1020393965**\n",
        "\n",
        "**Correo Institucional: july.munoz@udea.edu.co**\n",
        "\n",
        "**Nombre Completo:Oscar Felipe Robayo Lozano**\n",
        "\n",
        "**Cédula: 1234191132**\n",
        "\n",
        "**Correo Institucional:oscar.robayo1303@gmail.com**\n",
        "\n",
        "**Nombre Completo: Daniel Alberto Lopez Sanchez**\n",
        "\n",
        "**Cédula: 1036668134**\n",
        "\n",
        "**Correo Institucional: daniel.lopez6@udea.edu.co**\n"
      ]
    },
    {
      "cell_type": "markdown",
      "metadata": {
        "id": "UlYY1g0lKhz_"
      },
      "source": [
        "#**Pacientes sometidos a cirugías por tumores malignos**\n",
        "\n",
        "Se dispone de un conjunto de datos (pacientes.json) que contiene datos socio demográficos de pacientes que fueron sometidos a procedimientos quirúrgicos durante los años 2007 a 2018 y cuyos Códigos Internacionales de Enfermedades (CIE-10) correspondía a tumores malignos. Tomado de: https://www.datos.gov.co/Salud-y-Protecci-n-Social/Perfil-socio-demogr-fico-pacientes-sometidos-a-cir/i45c-f4fs\n",
        "\n",
        "\n",
        "Por cada paciente, se dispone de los siguientes atributos:\n",
        " \n",
        "* DiagnosticoAgrupado: Nombre del Grupo de Diagnóstico Agrupado\n",
        "* Cirugia: Descripción del Procedimiento Quirúrgico\n",
        "* TipoAtencion: Tipo de atención que generó el procedimiento (Urgencia-Programada)\n",
        "* Edad: Edad en años del paciente\n",
        "* Subregion: Subregión del departamento de la cual proviene el paciente\n",
        "* Regimen: Régimen de salud al cual pertenecía el paciente al momento del procedimiento\n",
        "* Genero: Genero del paciente\n",
        "* Estado_Civil: Estado civil del paciente al momento del procedimiento quirúrgico\n",
        "* Etnia: Etnia a la cual pertenecía el paciente al momento del procedimiento quirúrgico\n",
        "* Estrato: Nivel socio económico del paciente al momento del procedimiento quirúrgico\n",
        "* Año en el cual fue realizado el procedimiento quirúrgico\n",
        "\n",
        "Se requiere de su apoyo para comprender el comportamiento de esta enfermedad, respondiendo las siguientes inquietudes:\n",
        "\n"
      ]
    },
    {
      "cell_type": "code",
      "source": [
        "#Instalación\n",
        "!apt-get install openjdk-11-jdk-headless -qq > /dev/null\n",
        "!wget -q http://archive.apache.org/dist/spark/spark-3.0.1/spark-3.0.1-bin-hadoop3.2.tgz\n",
        "!tar xf spark-3.0.1-bin-hadoop3.2.tgz \n",
        "!pip install -q findspark\n",
        "\n",
        "#Variables de Entorno\n",
        "import os\n",
        "os.environ[\"JAVA_HOME\"] = \"/usr/lib/jvm/java-11-openjdk-amd64\"\n",
        "os.environ[\"SPARK_HOME\"] = \"/content/spark-3.0.1-bin-hadoop3.2\"\n",
        "\n",
        "#SparkContext\n",
        "import findspark\n",
        "findspark.init()\n",
        "from pyspark.sql import SparkSession\n",
        "from pyspark import SparkContext\n",
        "spark = SparkSession.builder.master(\"local[*]\").getOrCreate()\n",
        "sc = SparkContext.getOrCreate()\n",
        "\n",
        "from pyspark.sql.types import *"
      ],
      "metadata": {
        "id": "tnu3j35vATei"
      },
      "execution_count": 3,
      "outputs": []
    },
    {
      "cell_type": "code",
      "source": [
        "from pyspark.sql import SQLContext\n",
        "sqlCtx = SQLContext(sc)"
      ],
      "metadata": {
        "id": "3kgQSs_GAsZr"
      },
      "execution_count": 4,
      "outputs": []
    },
    {
      "cell_type": "code",
      "source": [
        "pacientes = sqlCtx.read.option(\"header\",True) \\\n",
        "     .json(\"local/data/pacientes.json\")\n",
        "pacientes.show(20)"
      ],
      "metadata": {
        "colab": {
          "base_uri": "https://localhost:8080/"
        },
        "id": "qeixje2pA-YL",
        "outputId": "821045e4-7988-452f-f463-0e506b9d9474"
      },
      "execution_count": 5,
      "outputs": [
        {
          "output_type": "stream",
          "name": "stdout",
          "text": [
            "+----+--------------------+--------------------+----+------------+---------+--------+------+------------+--------------+------------+\n",
            "| Año|             Cirugia| DiagnosticoAgrupado|Edad|Estado_Civil|  Estrato|   Etnia|Genero|     Regimen|     Subregion|TipoAtencion|\n",
            "+----+--------------------+--------------------+----+------------+---------+--------+------+------------+--------------+------------+\n",
            "|2007|   TRAQUEOSTOMIA SOD|CARCINOMA IN SITU...|  77|      Casado|Estrato 4|Indigena|     M|  PARTICULAR|    Centro Sur|    Urgencia|\n",
            "|2007|   TRAQUEOSTOMIA SOD|CARCINOMA IN SITU...|  77|      Casado|Estrato 4|Indigena|     M|  PARTICULAR|    Centro Sur|    Urgencia|\n",
            "|2007|MICROENDOSCOPIA L...|CARCINOMA IN SITU...|  77|      Casado|Estrato 4|Indigena|     M|  PARTICULAR|    Centro Sur|    Urgencia|\n",
            "|2007|MICROENDOSCOPIA L...|CARCINOMA IN SITU...|  77|      Casado|Estrato 4| Ninguna|     M|  PARTICULAR|    Centro Sur|    Urgencia|\n",
            "|2007|HEMICOLECTOMIA DE...|TUMOR MALIGNO DEL...|  66|      Casado|Estrato 2| Ninguna|     M|   VINCULADO|Alto Occidente|    Urgencia|\n",
            "|2007|HEMICOLECTOMIA DE...|TUMOR MALIGNO DEL...|  66|      Casado|Estrato 2| Ninguna|     M|   VINCULADO|Alto Occidente|    Urgencia|\n",
            "|2007|HEMICOLECTOMIA DE...|TUMOR MALIGNO DEL...|  66|      Casado|Estrato 2| Ninguna|     M|   VINCULADO|Alto Occidente|    Urgencia|\n",
            "|2007|ANASTOMOSIS DE IN...|TUMOR MALIGNO DEL...|  66|      Casado|Estrato 2| Ninguna|     M|   VINCULADO|Alto Occidente|    Urgencia|\n",
            "|2007|ANASTOMOSIS DE IN...|TUMOR MALIGNO DEL...|  66|      Casado|Estrato 2| Ninguna|     M|   VINCULADO|Alto Occidente|    Urgencia|\n",
            "|2007|ANASTOMOSIS DE IN...|TUMOR MALIGNO DEL...|  66|      Casado|Estrato 2| Ninguna|     M|   VINCULADO|Alto Occidente|    Urgencia|\n",
            "|2007|LAPAROSCOPIA DIAG...|TUMOR MALIGNO DE ...|  76|      Casado|Estrato 1| Ninguna|     F|CONTRIBUTIVO|    Centro Sur|    Urgencia|\n",
            "|2007|LAPAROSCOPIA DIAG...|TUMOR MALIGNO DE ...|  76|      Casado|Estrato 1| Ninguna|     F|CONTRIBUTIVO|    Centro Sur|    Urgencia|\n",
            "|2007|LAPAROSCOPIA DIAG...|TUMOR MALIGNO DE ...|  76|      Casado|Estrato 1| Ninguna|     F|CONTRIBUTIVO|    Centro Sur|    Urgencia|\n",
            "|2007|HEMICOLECTOMIA IZ...|TUMOR MALIGNO DEL...|  62|      Casado|Estrato 0| Ninguna|     F|  SUBSIDIADO|    Centro Sur|    Urgencia|\n",
            "|2007|HEMICOLECTOMIA IZ...|TUMOR MALIGNO DEL...|  62|      Casado|Estrato 0| Ninguna|     F|  SUBSIDIADO|    Centro Sur|    Urgencia|\n",
            "|2007|COLOSTOMIA PERMAN...|TUMOR MALIGNO DEL...|  62|      Casado|Estrato 0| Ninguna|     F|  SUBSIDIADO|    Centro Sur|    Urgencia|\n",
            "|2007|COLOSTOMIA PERMAN...|TUMOR MALIGNO DEL...|  62|      Casado|Estrato 0| Ninguna|     F|  SUBSIDIADO|    Centro Sur|    Urgencia|\n",
            "|2007|OMENTECTOMIA PARCIAL|TUMOR MALIGNO DEL...|  62|      Casado|Estrato 0| Ninguna|     F|  SUBSIDIADO|    Centro Sur|    Urgencia|\n",
            "|2007|OMENTECTOMIA PARCIAL|TUMOR MALIGNO DEL...|  62|      Casado|Estrato 0| Ninguna|     F|  SUBSIDIADO|    Centro Sur|    Urgencia|\n",
            "|2007|RESECCION DE TUMO...|TUMOR MALIGNO DE ...|  56|      Casado|Estrato 0| Ninguna|     F|  SUBSIDIADO|    Centro Sur|  Programada|\n",
            "+----+--------------------+--------------------+----+------------+---------+--------+------+------------+--------------+------------+\n",
            "only showing top 20 rows\n",
            "\n"
          ]
        }
      ]
    },
    {
      "cell_type": "markdown",
      "metadata": {
        "id": "GAyH6mgGK3VA"
      },
      "source": [
        "##**A) Calidad de datos**\n",
        "\n",
        "Revise cada una de las variables disponibles y solucione los posibles problemas presentes respecto a registros nulos y atípicos.\n",
        "\n",
        "Analice el tipo de dato utilizado para cada variable y realice los ajustes que considere necesarios para optimizar el almacenamiento\n",
        "\n",
        "Justificando las decisiones tomadas en cada caso "
      ]
    },
    {
      "cell_type": "markdown",
      "metadata": {
        "id": "F-njqbnTM2To"
      },
      "source": [
        "Presente aquí el código desarrollado y el resultado obtenido"
      ]
    },
    {
      "cell_type": "code",
      "source": [
        "pacientes.printSchema()"
      ],
      "metadata": {
        "colab": {
          "base_uri": "https://localhost:8080/"
        },
        "id": "EPrVkIsHB2B7",
        "outputId": "b6c1326a-9818-447e-87a6-17abd29033ee"
      },
      "execution_count": 6,
      "outputs": [
        {
          "output_type": "stream",
          "name": "stdout",
          "text": [
            "root\n",
            " |-- Año: long (nullable = true)\n",
            " |-- Cirugia: string (nullable = true)\n",
            " |-- DiagnosticoAgrupado: string (nullable = true)\n",
            " |-- Edad: long (nullable = true)\n",
            " |-- Estado_Civil: string (nullable = true)\n",
            " |-- Estrato: string (nullable = true)\n",
            " |-- Etnia: string (nullable = true)\n",
            " |-- Genero: string (nullable = true)\n",
            " |-- Regimen: string (nullable = true)\n",
            " |-- Subregion: string (nullable = true)\n",
            " |-- TipoAtencion: string (nullable = true)\n",
            "\n"
          ]
        }
      ]
    },
    {
      "cell_type": "markdown",
      "source": [
        "Podemos visualizar los tipos de datos asumidos para cada variable de la base. Identificamos que los tipos string están correctamente tipificados. Pero por ejemplo Año y Edad, que son los datos númericos, podemos optimizarlos cambiando el tipo de dato."
      ],
      "metadata": {
        "id": "U5Q5cgEqCawz"
      }
    },
    {
      "cell_type": "code",
      "source": [
        "schema = StructType() \\\n",
        "      .add(\"Año\",IntegerType(),True) \\\n",
        "      .add(\"Cirugia\",StringType(),True) \\\n",
        "      .add(\"DiagnosticoAgrupado\",StringType(),True) \\\n",
        "      .add(\"Edad\",ByteType(),True) \\\n",
        "      .add(\"Estado_Civil\",StringType(),True) \\\n",
        "      .add(\"Estrato\",StringType(),True) \\\n",
        "      .add(\"Etnia\",StringType(),True) \\\n",
        "      .add(\"Genero\",StringType(),True) \\\n",
        "      .add(\"Regimen\",StringType(),True) \\\n",
        "      .add(\"Subregion\",StringType(),True) \\\n",
        "      .add(\"TipoAtencion\",StringType(),True)"
      ],
      "metadata": {
        "id": "WO-m7B_-CVc7"
      },
      "execution_count": 7,
      "outputs": []
    },
    {
      "cell_type": "code",
      "source": [
        "pacientes_df = sqlCtx.read.format(\"json\") \\\n",
        "      .option(\"header\", True) \\\n",
        "      .option(\"delimiter\", \",\") \\\n",
        "      .schema(schema) \\\n",
        "      .load(\"local/data/pacientes.json\")"
      ],
      "metadata": {
        "id": "8VkUIFf5EbIU"
      },
      "execution_count": 8,
      "outputs": []
    },
    {
      "cell_type": "code",
      "source": [
        "pacientes_df.printSchema()\n",
        "pacientes_df.show()"
      ],
      "metadata": {
        "colab": {
          "base_uri": "https://localhost:8080/"
        },
        "id": "Qbha4TrNEoMV",
        "outputId": "3ee3b6b5-53db-4c32-a221-116002fa4806"
      },
      "execution_count": 9,
      "outputs": [
        {
          "output_type": "stream",
          "name": "stdout",
          "text": [
            "root\n",
            " |-- Año: integer (nullable = true)\n",
            " |-- Cirugia: string (nullable = true)\n",
            " |-- DiagnosticoAgrupado: string (nullable = true)\n",
            " |-- Edad: byte (nullable = true)\n",
            " |-- Estado_Civil: string (nullable = true)\n",
            " |-- Estrato: string (nullable = true)\n",
            " |-- Etnia: string (nullable = true)\n",
            " |-- Genero: string (nullable = true)\n",
            " |-- Regimen: string (nullable = true)\n",
            " |-- Subregion: string (nullable = true)\n",
            " |-- TipoAtencion: string (nullable = true)\n",
            "\n",
            "+----+--------------------+--------------------+----+------------+---------+--------+------+------------+--------------+------------+\n",
            "| Año|             Cirugia| DiagnosticoAgrupado|Edad|Estado_Civil|  Estrato|   Etnia|Genero|     Regimen|     Subregion|TipoAtencion|\n",
            "+----+--------------------+--------------------+----+------------+---------+--------+------+------------+--------------+------------+\n",
            "|2007|   TRAQUEOSTOMIA SOD|CARCINOMA IN SITU...|  77|      Casado|Estrato 4|Indigena|     M|  PARTICULAR|    Centro Sur|    Urgencia|\n",
            "|2007|   TRAQUEOSTOMIA SOD|CARCINOMA IN SITU...|  77|      Casado|Estrato 4|Indigena|     M|  PARTICULAR|    Centro Sur|    Urgencia|\n",
            "|2007|MICROENDOSCOPIA L...|CARCINOMA IN SITU...|  77|      Casado|Estrato 4|Indigena|     M|  PARTICULAR|    Centro Sur|    Urgencia|\n",
            "|2007|MICROENDOSCOPIA L...|CARCINOMA IN SITU...|  77|      Casado|Estrato 4| Ninguna|     M|  PARTICULAR|    Centro Sur|    Urgencia|\n",
            "|2007|HEMICOLECTOMIA DE...|TUMOR MALIGNO DEL...|  66|      Casado|Estrato 2| Ninguna|     M|   VINCULADO|Alto Occidente|    Urgencia|\n",
            "|2007|HEMICOLECTOMIA DE...|TUMOR MALIGNO DEL...|  66|      Casado|Estrato 2| Ninguna|     M|   VINCULADO|Alto Occidente|    Urgencia|\n",
            "|2007|HEMICOLECTOMIA DE...|TUMOR MALIGNO DEL...|  66|      Casado|Estrato 2| Ninguna|     M|   VINCULADO|Alto Occidente|    Urgencia|\n",
            "|2007|ANASTOMOSIS DE IN...|TUMOR MALIGNO DEL...|  66|      Casado|Estrato 2| Ninguna|     M|   VINCULADO|Alto Occidente|    Urgencia|\n",
            "|2007|ANASTOMOSIS DE IN...|TUMOR MALIGNO DEL...|  66|      Casado|Estrato 2| Ninguna|     M|   VINCULADO|Alto Occidente|    Urgencia|\n",
            "|2007|ANASTOMOSIS DE IN...|TUMOR MALIGNO DEL...|  66|      Casado|Estrato 2| Ninguna|     M|   VINCULADO|Alto Occidente|    Urgencia|\n",
            "|2007|LAPAROSCOPIA DIAG...|TUMOR MALIGNO DE ...|  76|      Casado|Estrato 1| Ninguna|     F|CONTRIBUTIVO|    Centro Sur|    Urgencia|\n",
            "|2007|LAPAROSCOPIA DIAG...|TUMOR MALIGNO DE ...|  76|      Casado|Estrato 1| Ninguna|     F|CONTRIBUTIVO|    Centro Sur|    Urgencia|\n",
            "|2007|LAPAROSCOPIA DIAG...|TUMOR MALIGNO DE ...|  76|      Casado|Estrato 1| Ninguna|     F|CONTRIBUTIVO|    Centro Sur|    Urgencia|\n",
            "|2007|HEMICOLECTOMIA IZ...|TUMOR MALIGNO DEL...|  62|      Casado|Estrato 0| Ninguna|     F|  SUBSIDIADO|    Centro Sur|    Urgencia|\n",
            "|2007|HEMICOLECTOMIA IZ...|TUMOR MALIGNO DEL...|  62|      Casado|Estrato 0| Ninguna|     F|  SUBSIDIADO|    Centro Sur|    Urgencia|\n",
            "|2007|COLOSTOMIA PERMAN...|TUMOR MALIGNO DEL...|  62|      Casado|Estrato 0| Ninguna|     F|  SUBSIDIADO|    Centro Sur|    Urgencia|\n",
            "|2007|COLOSTOMIA PERMAN...|TUMOR MALIGNO DEL...|  62|      Casado|Estrato 0| Ninguna|     F|  SUBSIDIADO|    Centro Sur|    Urgencia|\n",
            "|2007|OMENTECTOMIA PARCIAL|TUMOR MALIGNO DEL...|  62|      Casado|Estrato 0| Ninguna|     F|  SUBSIDIADO|    Centro Sur|    Urgencia|\n",
            "|2007|OMENTECTOMIA PARCIAL|TUMOR MALIGNO DEL...|  62|      Casado|Estrato 0| Ninguna|     F|  SUBSIDIADO|    Centro Sur|    Urgencia|\n",
            "|2007|RESECCION DE TUMO...|TUMOR MALIGNO DE ...|  56|      Casado|Estrato 0| Ninguna|     F|  SUBSIDIADO|    Centro Sur|  Programada|\n",
            "+----+--------------------+--------------------+----+------------+---------+--------+------+------------+--------------+------------+\n",
            "only showing top 20 rows\n",
            "\n"
          ]
        }
      ]
    },
    {
      "cell_type": "code",
      "source": [
        "from pyspark.sql.functions import col \n",
        "\n",
        "columns = pacientes_df.columns\n",
        "\n",
        "for column in columns:\n",
        "  total_distinct_values = pacientes_df.select(column).distinct().count()\n",
        "  total_null_values = pacientes_df.filter(col(column).isNull()).count()\n",
        "  print(\"\"\"\n",
        "Column {} has {} distinct values with {} null values\n",
        "  \"\"\".format(column, total_distinct_values, total_null_values))\n",
        "  if total_distinct_values < 30:\n",
        "    pacientes_df.select(column).groupBy(column).count().show(30, False)"
      ],
      "metadata": {
        "colab": {
          "base_uri": "https://localhost:8080/"
        },
        "id": "7L1Y--DIE4vG",
        "outputId": "282a0c0f-4aaa-49c9-ed8b-88f20889ca88"
      },
      "execution_count": 26,
      "outputs": [
        {
          "output_type": "stream",
          "name": "stdout",
          "text": [
            "\n",
            "Column Año has 13 distinct values with 125 null values\n",
            "  \n",
            "+----+-----+\n",
            "|Año |count|\n",
            "+----+-----+\n",
            "|2007|1103 |\n",
            "|2018|1220 |\n",
            "|2015|1492 |\n",
            "|2013|1681 |\n",
            "|null|125  |\n",
            "|2014|1381 |\n",
            "|2012|953  |\n",
            "|2009|1042 |\n",
            "|2016|1123 |\n",
            "|2010|970  |\n",
            "|2011|753  |\n",
            "|2008|1133 |\n",
            "|2017|1276 |\n",
            "+----+-----+\n",
            "\n",
            "\n",
            "Column Cirugia has 675 distinct values with 0 null values\n",
            "  \n",
            "\n",
            "Column DiagnosticoAgrupado has 82 distinct values with 0 null values\n",
            "  \n",
            "\n",
            "Column Edad has 83 distinct values with 125 null values\n",
            "  \n",
            "\n",
            "Column Estado_Civil has 7 distinct values with 0 null values\n",
            "  \n",
            "+------------+-----+\n",
            "|Estado_Civil|count|\n",
            "+------------+-----+\n",
            "|M           |122  |\n",
            "|Viudo       |914  |\n",
            "|Casado      |8695 |\n",
            "|Soltero     |3358 |\n",
            "|Union Libre |784  |\n",
            "|P           |254  |\n",
            "|            |125  |\n",
            "+------------+-----+\n",
            "\n",
            "\n",
            "Column Estrato has 8 distinct values with 0 null values\n",
            "  \n",
            "+---------+-----+\n",
            "|Estrato  |count|\n",
            "+---------+-----+\n",
            "|Estrato 3|2169 |\n",
            "|Estrato 2|1983 |\n",
            "|Estrato 6|17   |\n",
            "|Estrato 4|226  |\n",
            "|Estrato 0|5014 |\n",
            "|Estrato 1|4678 |\n",
            "|         |125  |\n",
            "|Estrato 5|40   |\n",
            "+---------+-----+\n",
            "\n",
            "\n",
            "Column Etnia has 3 distinct values with 0 null values\n",
            "  \n",
            "+--------+-----+\n",
            "|Etnia   |count|\n",
            "+--------+-----+\n",
            "|Ninguna |13522|\n",
            "|Indigena|605  |\n",
            "|        |125  |\n",
            "+--------+-----+\n",
            "\n",
            "\n",
            "Column Genero has 3 distinct values with 0 null values\n",
            "  \n",
            "+------+-----+\n",
            "|Genero|count|\n",
            "+------+-----+\n",
            "|F     |7784 |\n",
            "|M     |6343 |\n",
            "|      |125  |\n",
            "+------+-----+\n",
            "\n",
            "\n",
            "Column Regimen has 6 distinct values with 0 null values\n",
            "  \n",
            "+------------+-----+\n",
            "|Regimen     |count|\n",
            "+------------+-----+\n",
            "|SUBSIDIADO  |8005 |\n",
            "|VINCULADO   |1789 |\n",
            "|PARTICULAR  |282  |\n",
            "|CONTRIBUTIVO|3979 |\n",
            "|OTRO        |72   |\n",
            "|            |125  |\n",
            "+------------+-----+\n",
            "\n",
            "\n",
            "Column Subregion has 7 distinct values with 0 null values\n",
            "  \n",
            "+------------------+-----+\n",
            "|Subregion         |count|\n",
            "+------------------+-----+\n",
            "|Magdalena Caldense|702  |\n",
            "|Alto Occidente    |1407 |\n",
            "|Centro Sur        |9968 |\n",
            "|Alto Oriente      |544  |\n",
            "|Bajo Occidente    |504  |\n",
            "|                  |125  |\n",
            "|Norte             |1002 |\n",
            "+------------------+-----+\n",
            "\n",
            "\n",
            "Column TipoAtencion has 3 distinct values with 0 null values\n",
            "  \n",
            "+------------+-----+\n",
            "|TipoAtencion|count|\n",
            "+------------+-----+\n",
            "|Urgencia    |3152 |\n",
            "|Programada  |10975|\n",
            "|            |125  |\n",
            "+------------+-----+\n",
            "\n"
          ]
        }
      ]
    },
    {
      "cell_type": "markdown",
      "source": [
        "Se observa que para la variable anio y edad, hay 125 registros nulos. Sin embargo, se observa que esa misma cantidad se repite en las variables de tipo String, con el caracter vacio. Se analizara, si coincide con las mismas muestras"
      ],
      "metadata": {
        "id": "l9o3zoGGIiQ6"
      }
    },
    {
      "cell_type": "code",
      "source": [
        "from pyspark.sql.functions import *\n",
        "\n",
        "total_null_all_columns = pacientes_df.filter(    \n",
        "  (col(\"Año\").isNull()) &\n",
        "  (trim(col(\"Cirugia\"))==\"\") &\n",
        "  (trim(col(\"DiagnosticoAgrupado\"))==\"\") &\n",
        "  (col(\"Edad\").isNull()) &\n",
        "  (trim(col(\"Estado_Civil\"))==\"\") &\n",
        "  (trim(col(\"Estrato\"))==\"\") &\n",
        "  (trim(col(\"Etnia\"))==\"\") &\n",
        "  (trim(col(\"Genero\"))==\"\") &\n",
        "  (trim(col(\"Regimen\"))==\"\") &\n",
        "  (trim(col(\"Subregion\"))==\"\") &\n",
        "  (trim(col(\"TipoAtencion\"))==\"\")\n",
        ").count()\n",
        "\n",
        "print(\"Total number of null and empty values in all columns is: {}\".format(total_null_all_columns))"
      ],
      "metadata": {
        "colab": {
          "base_uri": "https://localhost:8080/"
        },
        "id": "qGeVCXnRIyVL",
        "outputId": "734e1ca5-2b6a-4c60-e552-70ca55b290f3"
      },
      "execution_count": 42,
      "outputs": [
        {
          "output_type": "stream",
          "name": "stdout",
          "text": [
            "Total number of null and empty values in all columns is: 0\n"
          ]
        }
      ]
    },
    {
      "cell_type": "markdown",
      "source": [
        "Se observa que no existen registros nulos o vacios en conjunto. Se explora a continuacion en una de las columnas, como se presenta la informacion de los registros nulos"
      ],
      "metadata": {
        "id": "GDSwPNhoLPOn"
      }
    },
    {
      "cell_type": "code",
      "source": [
        "pacientes_df.filter(col(\"Año\").isNull()).show(125, False)"
      ],
      "metadata": {
        "colab": {
          "base_uri": "https://localhost:8080/"
        },
        "id": "fS4JTGxALDr1",
        "outputId": "273f2cc4-f927-47fa-976e-026eb4794b88"
      },
      "execution_count": 43,
      "outputs": [
        {
          "output_type": "stream",
          "name": "stdout",
          "text": [
            "+----+------------------------------------------------------------------------------+----------------------------------------------------------------------------+----+------------+-------+-----+------+-------+---------+------------+\n",
            "|Año |Cirugia                                                                       |DiagnosticoAgrupado                                                         |Edad|Estado_Civil|Estrato|Etnia|Genero|Regimen|Subregion|TipoAtencion|\n",
            "+----+------------------------------------------------------------------------------+----------------------------------------------------------------------------+----+------------+-------+-----+------+-------+---------+------------+\n",
            "|null|IMPLANTACION DE CATETER VENOSO SUBCLAVIO O FEMORAL APLICA PARA CATETER YUGULAR|TUMOR MALIGNO DE LA MAMA                                                    |null|            |       |     |      |       |         |            |\n",
            "|null|IMPLANTACION DE CATETER VENOSO SUBCLAVIO O FEMORAL APLICA PARA CATETER YUGULAR|TUMOR MALIGNO DE LA MAMA                                                    |null|            |       |     |      |       |         |            |\n",
            "|null|IMPLANTACION DE CATETER VENOSO SUBCLAVIO O FEMORAL APLICA PARA CATETER YUGULAR|TUMOR MALIGNO DEL ESTOMAGO                                                  |null|            |       |     |      |       |         |            |\n",
            "|null|IMPLANTACION DE CATETER VENOSO SUBCLAVIO O FEMORAL APLICA PARA CATETER YUGULAR|TUMOR MALIGNO DEL ESTOMAGO                                                  |null|            |       |     |      |       |         |            |\n",
            "|null|IMPLANTACION DE CATETER VENOSO SUBCLAVIO O FEMORAL APLICA PARA CATETER YUGULAR|TUMOR MALIGNO DEL COLON                                                     |null|            |       |     |      |       |         |            |\n",
            "|null|IMPLANTACION DE CATETER VENOSO SUBCLAVIO O FEMORAL APLICA PARA CATETER YUGULAR|TUMOR MALIGNO DEL COLON                                                     |null|            |       |     |      |       |         |            |\n",
            "|null|IMPLANTACION DE CATETER VENOSO SUBCLAVIO O FEMORAL APLICA PARA CATETER YUGULAR|TUMOR MALIGNO DEL ESTOMAGO                                                  |null|            |       |     |      |       |         |            |\n",
            "|null|IMPLANTACION DE CATETER VENOSO SUBCLAVIO O FEMORAL APLICA PARA CATETER YUGULAR|TUMOR MALIGNO DEL ESTOMAGO                                                  |null|            |       |     |      |       |         |            |\n",
            "|null|IMPLANTACION DE CATETER VENOSO SUBCLAVIO O FEMORAL APLICA PARA CATETER YUGULAR|TUMOR MALIGNO DEL ESTOMAGO                                                  |null|            |       |     |      |       |         |            |\n",
            "|null|IMPLANTACION DE CATETER VENOSO SUBCLAVIO O FEMORAL APLICA PARA CATETER YUGULAR|TUMOR MALIGNO DEL ESTOMAGO                                                  |null|            |       |     |      |       |         |            |\n",
            "|null|IMPLANTACION DE CATETER VENOSO SUBCLAVIO O FEMORAL APLICA PARA CATETER YUGULAR|TUMOR MALIGNO DEL ESTOMAGO                                                  |null|            |       |     |      |       |         |            |\n",
            "|null|IMPLANTACION DE CATETER VENOSO SUBCLAVIO O FEMORAL APLICA PARA CATETER YUGULAR|TUMOR MALIGNO DEL  RECTO                                                    |null|            |       |     |      |       |         |            |\n",
            "|null|IMPLANTACION DE CATETER VENOSO SUBCLAVIO O FEMORAL APLICA PARA CATETER YUGULAR|TUMOR MALIGNO DEL  RECTO                                                    |null|            |       |     |      |       |         |            |\n",
            "|null|IMPLANTACION DE CATETER VENOSO SUBCLAVIO O FEMORAL APLICA PARA CATETER YUGULAR|TUMOR MALIGNO DEL  RECTO                                                    |null|            |       |     |      |       |         |            |\n",
            "|null|IMPLANTACION DE CATETER VENOSO SUBCLAVIO O FEMORAL APLICA PARA CATETER YUGULAR|TUMOR MALIGNO DE OTROS SITIOS Y DE SITIOS MAL DEFINIDOS                     |null|            |       |     |      |       |         |            |\n",
            "|null|IMPLANTACION DE CATETER VENOSO SUBCLAVIO O FEMORAL APLICA PARA CATETER YUGULAR|TUMOR MALIGNO DE OTROS SITIOS Y DE SITIOS MAL DEFINIDOS                     |null|            |       |     |      |       |         |            |\n",
            "|null|IMPLANTACION DE CATETER VENOSO SUBCLAVIO O FEMORAL APLICA PARA CATETER YUGULAR|TUMOR MALIGNO DE OTROS SITIOS Y DE SITIOS MAL DEFINIDOS                     |null|            |       |     |      |       |         |            |\n",
            "|null|IMPLANTACION DE CATETER VENOSO SUBCLAVIO O FEMORAL APLICA PARA CATETER YUGULAR|TUMOR MALIGNO DEL  RECTO                                                    |null|            |       |     |      |       |         |            |\n",
            "|null|IMPLANTACION DE CATETER VENOSO SUBCLAVIO O FEMORAL APLICA PARA CATETER YUGULAR|TUMOR MALIGNO DEL  RECTO                                                    |null|            |       |     |      |       |         |            |\n",
            "|null|IMPLANTACION DE CATETER VENOSO SUBCLAVIO O FEMORAL APLICA PARA CATETER YUGULAR|TUMOR MALIGNO DEL  RECTO                                                    |null|            |       |     |      |       |         |            |\n",
            "|null|IMPLANTACION DE CATETER VENOSO SUBCLAVIO O FEMORAL APLICA PARA CATETER YUGULAR|TUMOR MALIGNO DEL CORAZON, DEL MEDIASTINO Y DE LAPLEURA                     |null|            |       |     |      |       |         |            |\n",
            "|null|IMPLANTACION DE CATETER VENOSO SUBCLAVIO O FEMORAL APLICA PARA CATETER YUGULAR|TUMOR MALIGNO DEL CORAZON, DEL MEDIASTINO Y DE LAPLEURA                     |null|            |       |     |      |       |         |            |\n",
            "|null|IMPLANTACION DE CATETER VENOSO SUBCLAVIO O FEMORAL APLICA PARA CATETER YUGULAR|CARCINOMA INSITU DE LA MAMA                                                 |null|            |       |     |      |       |         |            |\n",
            "|null|IMPLANTACION DE CATETER VENOSO SUBCLAVIO O FEMORAL APLICA PARA CATETER YUGULAR|CARCINOMA INSITU DE LA MAMA                                                 |null|            |       |     |      |       |         |            |\n",
            "|null|IMPLANTACION DE CATETER VENOSO SUBCLAVIO O FEMORAL APLICA PARA CATETER YUGULAR|CARCINOMA INSITU DE LA MAMA                                                 |null|            |       |     |      |       |         |            |\n",
            "|null|IMPLANTACION DE CATETER VENOSO SUBCLAVIO O FEMORAL APLICA PARA CATETER YUGULAR|TUMOR MALIGNO DEL COLON                                                     |null|            |       |     |      |       |         |            |\n",
            "|null|IMPLANTACION DE CATETER VENOSO SUBCLAVIO O FEMORAL APLICA PARA CATETER YUGULAR|TUMOR MALIGNO DEL COLON                                                     |null|            |       |     |      |       |         |            |\n",
            "|null|IMPLANTACION DE CATETER VENOSO SUBCLAVIO O FEMORAL APLICA PARA CATETER YUGULAR|TUMOR MALIGNO DE OTROS SITIOS Y DE SITIOS MAL DEFINIDOS                     |null|            |       |     |      |       |         |            |\n",
            "|null|IMPLANTACION DE CATETER VENOSO SUBCLAVIO O FEMORAL APLICA PARA CATETER YUGULAR|TUMOR MALIGNO DE OTROS SITIOS Y DE SITIOS MAL DEFINIDOS                     |null|            |       |     |      |       |         |            |\n",
            "|null|IMPLANTACION DE CATETER VENOSO SUBCLAVIO O FEMORAL APLICA PARA CATETER YUGULAR|TUMOR MALIGNO DE OTROS SITIOS Y DE SITIOS MAL DEFINIDOS                     |null|            |       |     |      |       |         |            |\n",
            "|null|IMPLANTACION DE CATETER VENOSO SUBCLAVIO O FEMORAL APLICA PARA CATETER YUGULAR|TUMOR MALIGNO DEL CUELLO DEL UTERO                                          |null|            |       |     |      |       |         |            |\n",
            "|null|IMPLANTACION DE CATETER VENOSO SUBCLAVIO O FEMORAL APLICA PARA CATETER YUGULAR|TUMOR MALIGNO DEL CUELLO DEL UTERO                                          |null|            |       |     |      |       |         |            |\n",
            "|null|IMPLANTACION DE CATETER VENOSO SUBCLAVIO O FEMORAL APLICA PARA CATETER YUGULAR|TUMOR MALIGNO DEL PANCREAS                                                  |null|            |       |     |      |       |         |            |\n",
            "|null|IMPLANTACION DE CATETER VENOSO SUBCLAVIO O FEMORAL APLICA PARA CATETER YUGULAR|TUMOR MALIGNO DEL PANCREAS                                                  |null|            |       |     |      |       |         |            |\n",
            "|null|IMPLANTACION DE CATETER VENOSO SUBCLAVIO O FEMORAL APLICA PARA CATETER YUGULAR|TUMOR MALIGNO DEL PANCREAS                                                  |null|            |       |     |      |       |         |            |\n",
            "|null|IMPLANTACION DE CATETER VENOSO SUBCLAVIO O FEMORAL APLICA PARA CATETER YUGULAR|TUMOR MALIGNO DEL PANCREAS                                                  |null|            |       |     |      |       |         |            |\n",
            "|null|IMPLANTACION DE CATETER VENOSO SUBCLAVIO O FEMORAL APLICA PARA CATETER YUGULAR|TUMOR MALIGNO DEL COLON                                                     |null|            |       |     |      |       |         |            |\n",
            "|null|IMPLANTACION DE CATETER VENOSO SUBCLAVIO O FEMORAL APLICA PARA CATETER YUGULAR|TUMOR MALIGNO DEL COLON                                                     |null|            |       |     |      |       |         |            |\n",
            "|null|IMPLANTACION DE CATETER VENOSO SUBCLAVIO O FEMORAL APLICA PARA CATETER YUGULAR|TUMOR MALIGNO DEL COLON                                                     |null|            |       |     |      |       |         |            |\n",
            "|null|IMPLANTACION DE CATETER VENOSO SUBCLAVIO O FEMORAL APLICA PARA CATETER YUGULAR|TUMOR MALIGNO DEL COLON                                                     |null|            |       |     |      |       |         |            |\n",
            "|null|IMPLANTACION DE CATETER VENOSO SUBCLAVIO O FEMORAL APLICA PARA CATETER YUGULAR|TUMOR MALIGNO DEL COLON                                                     |null|            |       |     |      |       |         |            |\n",
            "|null|IMPLANTACION DE CATETER VENOSO SUBCLAVIO O FEMORAL APLICA PARA CATETER YUGULAR|TUMOR MALIGNO DEL COLON                                                     |null|            |       |     |      |       |         |            |\n",
            "|null|IMPLANTACION DE CATETER VENOSO SUBCLAVIO O FEMORAL APLICA PARA CATETER YUGULAR|TUMOR MALIGNO DEL COLON                                                     |null|            |       |     |      |       |         |            |\n",
            "|null|IMPLANTACION DE CATETER VENOSO SUBCLAVIO O FEMORAL APLICA PARA CATETER YUGULAR|TUMOR MALIGNO DEL COLON                                                     |null|            |       |     |      |       |         |            |\n",
            "|null|IMPLANTACION DE CATETER VENOSO SUBCLAVIO O FEMORAL APLICA PARA CATETER YUGULAR|TUMOR MALIGNO DEL COLON                                                     |null|            |       |     |      |       |         |            |\n",
            "|null|IMPLANTACION DE CATETER VENOSO SUBCLAVIO O FEMORAL APLICA PARA CATETER YUGULAR|TUMOR MALIGNO DEL COLON                                                     |null|            |       |     |      |       |         |            |\n",
            "|null|IMPLANTACION DE CATETER VENOSO SUBCLAVIO O FEMORAL APLICA PARA CATETER YUGULAR|CARCINOMA INSITU DE LA MAMA                                                 |null|            |       |     |      |       |         |            |\n",
            "|null|IMPLANTACION DE CATETER VENOSO SUBCLAVIO O FEMORAL APLICA PARA CATETER YUGULAR|CARCINOMA INSITU DE LA MAMA                                                 |null|            |       |     |      |       |         |            |\n",
            "|null|IMPLANTACION DE CATETER VENOSO SUBCLAVIO O FEMORAL APLICA PARA CATETER YUGULAR|CARCINOMA INSITU DE LA MAMA                                                 |null|            |       |     |      |       |         |            |\n",
            "|null|IMPLANTACION DE CATETER VENOSO SUBCLAVIO O FEMORAL APLICA PARA CATETER YUGULAR|TUMOR MALIGNO DE OTRAS PARTES Y DE LAS NO ESPECIFICADAS DE LAS VIAS BILIARES|null|            |       |     |      |       |         |            |\n",
            "|null|IMPLANTACION DE CATETER VENOSO SUBCLAVIO O FEMORAL APLICA PARA CATETER YUGULAR|TUMOR MALIGNO DE OTRAS PARTES Y DE LAS NO ESPECIFICADAS DE LAS VIAS BILIARES|null|            |       |     |      |       |         |            |\n",
            "|null|IMPLANTACION DE CATETER VENOSO SUBCLAVIO O FEMORAL APLICA PARA CATETER YUGULAR|TUMOR MALIGNO DE OTRAS PARTES Y DE LAS NO ESPECIFICADAS DE LAS VIAS BILIARES|null|            |       |     |      |       |         |            |\n",
            "|null|IMPLANTACION DE CATETER VENOSO SUBCLAVIO O FEMORAL APLICA PARA CATETER YUGULAR|TUMOR MALIGNO DE OTRAS PARTES Y DE LAS NO ESPECIFICADAS DE LAS VIAS BILIARES|null|            |       |     |      |       |         |            |\n",
            "|null|IMPLANTACION DE CATETER VENOSO SUBCLAVIO O FEMORAL APLICA PARA CATETER YUGULAR|TUMOR MALIGNO DEL  RECTO                                                    |null|            |       |     |      |       |         |            |\n",
            "|null|IMPLANTACION DE CATETER VENOSO SUBCLAVIO O FEMORAL APLICA PARA CATETER YUGULAR|TUMOR MALIGNO DEL  RECTO                                                    |null|            |       |     |      |       |         |            |\n",
            "|null|IMPLANTACION DE CATETER VENOSO SUBCLAVIO O FEMORAL APLICA PARA CATETER YUGULAR|TUMOR MALIGNO DEL CUELLO DEL UTERO                                          |null|            |       |     |      |       |         |            |\n",
            "|null|IMPLANTACION DE CATETER VENOSO SUBCLAVIO O FEMORAL APLICA PARA CATETER YUGULAR|TUMOR MALIGNO DEL CUELLO DEL UTERO                                          |null|            |       |     |      |       |         |            |\n",
            "|null|IMPLANTACION DE CATETER VENOSO SUBCLAVIO O FEMORAL APLICA PARA CATETER YUGULAR|TUMOR MALIGNO DEL CUELLO DEL UTERO                                          |null|            |       |     |      |       |         |            |\n",
            "|null|IMPLANTACION DE CATETER VENOSO SUBCLAVIO O FEMORAL APLICA PARA CATETER YUGULAR|TUMOR MALIGNO DEL ESTOMAGO                                                  |null|            |       |     |      |       |         |            |\n",
            "|null|IMPLANTACION DE CATETER VENOSO SUBCLAVIO O FEMORAL APLICA PARA CATETER YUGULAR|TUMOR MALIGNO DEL ESTOMAGO                                                  |null|            |       |     |      |       |         |            |\n",
            "|null|IMPLANTACION DE CATETER VENOSO SUBCLAVIO O FEMORAL APLICA PARA CATETER YUGULAR|TUMOR MALIGNO DEL ESTOMAGO                                                  |null|            |       |     |      |       |         |            |\n",
            "|null|IMPLANTACION DE CATETER VENOSO SUBCLAVIO O FEMORAL APLICA PARA CATETER YUGULAR|TUMOR MALIGNO DEL ESTOMAGO                                                  |null|            |       |     |      |       |         |            |\n",
            "|null|IMPLANTACION DE CATETER VENOSO SUBCLAVIO O FEMORAL APLICA PARA CATETER YUGULAR|TUMOR MALIGNO DEL PERITONEO Y DEL RETROPERITONEO                            |null|            |       |     |      |       |         |            |\n",
            "|null|IMPLANTACION DE CATETER VENOSO SUBCLAVIO O FEMORAL APLICA PARA CATETER YUGULAR|TUMOR MALIGNO DEL PERITONEO Y DEL RETROPERITONEO                            |null|            |       |     |      |       |         |            |\n",
            "|null|IMPLANTACION DE CATETER VENOSO SUBCLAVIO O FEMORAL APLICA PARA CATETER YUGULAR|TUMOR MALIGNO DE LOS BRONQUIOS Y DEL PULMON                                 |null|            |       |     |      |       |         |            |\n",
            "|null|IMPLANTACION DE CATETER VENOSO SUBCLAVIO O FEMORAL APLICA PARA CATETER YUGULAR|TUMOR MALIGNO DE LOS BRONQUIOS Y DEL PULMON                                 |null|            |       |     |      |       |         |            |\n",
            "|null|IMPLANTACION DE CATETER VENOSO SUBCLAVIO O FEMORAL APLICA PARA CATETER YUGULAR|TUMOR MALIGNO DE LOS BRONQUIOS Y DEL PULMON                                 |null|            |       |     |      |       |         |            |\n",
            "|null|IMPLANTACION DE CATETER VENOSO SUBCLAVIO O FEMORAL APLICA PARA CATETER YUGULAR|TUMOR MALIGNO DE LOS BRONQUIOS Y DEL PULMON                                 |null|            |       |     |      |       |         |            |\n",
            "|null|IMPLANTACION DE CATETER VENOSO SUBCLAVIO O FEMORAL APLICA PARA CATETER YUGULAR|TUMOR MALIGNO DE LOS BRONQUIOS Y DEL PULMON                                 |null|            |       |     |      |       |         |            |\n",
            "|null|IMPLANTACION DE CATETER VENOSO SUBCLAVIO O FEMORAL APLICA PARA CATETER YUGULAR|TUMOR MALIGNO DE LOS BRONQUIOS Y DEL PULMON                                 |null|            |       |     |      |       |         |            |\n",
            "|null|IMPLANTACION DE CATETER VENOSO SUBCLAVIO O FEMORAL APLICA PARA CATETER YUGULAR|TUMOR MALIGNO DEL  RECTO                                                    |null|            |       |     |      |       |         |            |\n",
            "|null|IMPLANTACION DE CATETER VENOSO SUBCLAVIO O FEMORAL APLICA PARA CATETER YUGULAR|TUMOR MALIGNO DEL  RECTO                                                    |null|            |       |     |      |       |         |            |\n",
            "|null|IMPLANTACION DE CATETER VENOSO SUBCLAVIO O FEMORAL APLICA PARA CATETER YUGULAR|TUMOR MALIGNO DEL  RECTO                                                    |null|            |       |     |      |       |         |            |\n",
            "|null|IMPLANTACION DE CATETER VENOSO SUBCLAVIO O FEMORAL APLICA PARA CATETER YUGULAR|TUMOR MALIGNO DEL  RECTO                                                    |null|            |       |     |      |       |         |            |\n",
            "|null|IMPLANTACION DE CATETER VENOSO SUBCLAVIO O FEMORAL APLICA PARA CATETER YUGULAR|TUMOR MALIGNO DEL  RECTO                                                    |null|            |       |     |      |       |         |            |\n",
            "|null|IMPLANTACION DE CATETER VENOSO SUBCLAVIO O FEMORAL APLICA PARA CATETER YUGULAR|TUMOR MALIGNO DEL COLON                                                     |null|            |       |     |      |       |         |            |\n",
            "|null|IMPLANTACION DE CATETER VENOSO SUBCLAVIO O FEMORAL APLICA PARA CATETER YUGULAR|TUMOR MALIGNO DEL COLON                                                     |null|            |       |     |      |       |         |            |\n",
            "|null|IMPLANTACION DE CATETER VENOSO SUBCLAVIO O FEMORAL APLICA PARA CATETER YUGULAR|TUMOR MALIGNO DEL COLON                                                     |null|            |       |     |      |       |         |            |\n",
            "|null|IMPLANTACION DE CATETER VENOSO SUBCLAVIO O FEMORAL APLICA PARA CATETER YUGULAR|TUMOR MALIGNO DEL OVARIO                                                    |null|            |       |     |      |       |         |            |\n",
            "|null|IMPLANTACION DE CATETER VENOSO SUBCLAVIO O FEMORAL APLICA PARA CATETER YUGULAR|TUMOR MALIGNO DEL OVARIO                                                    |null|            |       |     |      |       |         |            |\n",
            "|null|IMPLANTACION DE CATETER VENOSO SUBCLAVIO O FEMORAL APLICA PARA CATETER YUGULAR|TUMOR MALIGNO DEL OVARIO                                                    |null|            |       |     |      |       |         |            |\n",
            "|null|IMPLANTACION DE CATETER VENOSO SUBCLAVIO O FEMORAL APLICA PARA CATETER YUGULAR|TUMOR MALIGNO DEL OVARIO                                                    |null|            |       |     |      |       |         |            |\n",
            "|null|IMPLANTACION DE CATETER VENOSO SUBCLAVIO O FEMORAL APLICA PARA CATETER YUGULAR|TUMOR MALIGNO DEL ESTOMAGO                                                  |null|            |       |     |      |       |         |            |\n",
            "|null|IMPLANTACION DE CATETER VENOSO SUBCLAVIO O FEMORAL APLICA PARA CATETER YUGULAR|TUMOR MALIGNO DEL ESTOMAGO                                                  |null|            |       |     |      |       |         |            |\n",
            "|null|IMPLANTACION DE CATETER VENOSO SUBCLAVIO O FEMORAL APLICA PARA CATETER YUGULAR|TUMOR MALIGNO DEL ESTOMAGO                                                  |null|            |       |     |      |       |         |            |\n",
            "|null|IMPLANTACION DE CATETER VENOSO SUBCLAVIO O FEMORAL APLICA PARA CATETER YUGULAR|MIELOMA MÚLTIPLE Y TUMORES MALIGNOS DE CÉLULAS PLASMÁTICAS                  |null|            |       |     |      |       |         |            |\n",
            "|null|IMPLANTACION DE CATETER VENOSO SUBCLAVIO O FEMORAL APLICA PARA CATETER YUGULAR|TUMOR MALIGNO DEL ESTOMAGO                                                  |null|            |       |     |      |       |         |            |\n",
            "|null|IMPLANTACION DE CATETER VENOSO SUBCLAVIO O FEMORAL APLICA PARA CATETER YUGULAR|TUMOR MALIGNO DEL ESTOMAGO                                                  |null|            |       |     |      |       |         |            |\n",
            "|null|IMPLANTACION DE CATETER VENOSO SUBCLAVIO O FEMORAL APLICA PARA CATETER YUGULAR|TUMOR MALIGNO DEL ESTOMAGO                                                  |null|            |       |     |      |       |         |            |\n",
            "|null|IMPLANTACION DE CATETER VENOSO SUBCLAVIO O FEMORAL APLICA PARA CATETER YUGULAR|TUMOR MALIGNO DEL ESTOMAGO                                                  |null|            |       |     |      |       |         |            |\n",
            "|null|IMPLANTACION DE CATETER VENOSO SUBCLAVIO O FEMORAL APLICA PARA CATETER YUGULAR|TUMOR MALIGNO DEL ESTOMAGO                                                  |null|            |       |     |      |       |         |            |\n",
            "|null|IMPLANTACION DE CATETER VENOSO SUBCLAVIO O FEMORAL APLICA PARA CATETER YUGULAR|TUMOR MALIGNO DEL ESTOMAGO                                                  |null|            |       |     |      |       |         |            |\n",
            "|null|IMPLANTACION DE CATETER VENOSO SUBCLAVIO O FEMORAL APLICA PARA CATETER YUGULAR|TUMOR MALIGNO DEL ESTOMAGO                                                  |null|            |       |     |      |       |         |            |\n",
            "|null|IMPLANTACION DE CATETER VENOSO SUBCLAVIO O FEMORAL APLICA PARA CATETER YUGULAR|TUMOR MALIGNO DEL ESTOMAGO                                                  |null|            |       |     |      |       |         |            |\n",
            "|null|IMPLANTACION DE CATETER VENOSO SUBCLAVIO O FEMORAL APLICA PARA CATETER YUGULAR|TUMOR MALIGNO DEL ESTOMAGO                                                  |null|            |       |     |      |       |         |            |\n",
            "|null|IMPLANTACION DE CATETER VENOSO SUBCLAVIO O FEMORAL APLICA PARA CATETER YUGULAR|TUMOR MALIGNO DEL  RECTO                                                    |null|            |       |     |      |       |         |            |\n",
            "|null|IMPLANTACION DE CATETER VENOSO SUBCLAVIO O FEMORAL APLICA PARA CATETER YUGULAR|TUMOR MALIGNO DEL  RECTO                                                    |null|            |       |     |      |       |         |            |\n",
            "|null|IMPLANTACION DE CATETER VENOSO SUBCLAVIO O FEMORAL APLICA PARA CATETER YUGULAR|TUMOR MALIGNO DEL  RECTO                                                    |null|            |       |     |      |       |         |            |\n",
            "|null|IMPLANTACION DE CATETER VENOSO SUBCLAVIO O FEMORAL APLICA PARA CATETER YUGULAR|TUMOR MALIGNO DE LOS BRONQUIOS Y DEL PULMON                                 |null|            |       |     |      |       |         |            |\n",
            "|null|IMPLANTACION DE CATETER VENOSO SUBCLAVIO O FEMORAL APLICA PARA CATETER YUGULAR|TUMOR MALIGNO DE LOS BRONQUIOS Y DEL PULMON                                 |null|            |       |     |      |       |         |            |\n",
            "|null|IMPLANTACION DE CATETER VENOSO SUBCLAVIO O FEMORAL APLICA PARA CATETER YUGULAR|TUMOR MALIGNO DE LOS BRONQUIOS Y DEL PULMON                                 |null|            |       |     |      |       |         |            |\n",
            "|null|IMPLANTACION DE CATETER VENOSO SUBCLAVIO O FEMORAL APLICA PARA CATETER YUGULAR|TUMOR MALIGNO DE LOS BRONQUIOS Y DEL PULMON                                 |null|            |       |     |      |       |         |            |\n",
            "|null|IMPLANTACION DE CATETER VENOSO SUBCLAVIO O FEMORAL APLICA PARA CATETER YUGULAR|TUMOR MALIGNO DE LOS BRONQUIOS Y DEL PULMON                                 |null|            |       |     |      |       |         |            |\n",
            "|null|IMPLANTACION DE CATETER VENOSO SUBCLAVIO O FEMORAL APLICA PARA CATETER YUGULAR|TUMOR MALIGNO DE LOS BRONQUIOS Y DEL PULMON                                 |null|            |       |     |      |       |         |            |\n",
            "|null|IMPLANTACION DE CATETER VENOSO SUBCLAVIO O FEMORAL APLICA PARA CATETER YUGULAR|TUMOR MALIGNO DEL COLON                                                     |null|            |       |     |      |       |         |            |\n",
            "|null|IMPLANTACION DE CATETER VENOSO SUBCLAVIO O FEMORAL APLICA PARA CATETER YUGULAR|TUMOR MALIGNO DEL COLON                                                     |null|            |       |     |      |       |         |            |\n",
            "|null|IMPLANTACION DE CATETER VENOSO SUBCLAVIO O FEMORAL APLICA PARA CATETER YUGULAR|TUMOR MALIGNO DEL COLON                                                     |null|            |       |     |      |       |         |            |\n",
            "|null|IMPLANTACION DE CATETER VENOSO SUBCLAVIO O FEMORAL APLICA PARA CATETER YUGULAR|CARCINOMA INSITU DE LA MAMA                                                 |null|            |       |     |      |       |         |            |\n",
            "|null|IMPLANTACION DE CATETER VENOSO SUBCLAVIO O FEMORAL APLICA PARA CATETER YUGULAR|TUMOR MALIGNO DE LA GLANDULA TIROIDES                                       |null|            |       |     |      |       |         |            |\n",
            "|null|IMPLANTACION DE CATETER VENOSO SUBCLAVIO O FEMORAL APLICA PARA CATETER YUGULAR|CARCINOMA IN SITU DEL SISTEMA RESPIRATORIO Y DEL OIDO MEDIO                 |null|            |       |     |      |       |         |            |\n",
            "|null|IMPLANTACION DE CATETER VENOSO SUBCLAVIO O FEMORAL APLICA PARA CATETER YUGULAR|TUMOR MALIGNO DEL LABIO                                                     |null|            |       |     |      |       |         |            |\n",
            "|null|IMPLANTACION DE CATETER VENOSO SUBCLAVIO O FEMORAL APLICA PARA CATETER YUGULAR|TUMOR MALIGNO DEL LABIO                                                     |null|            |       |     |      |       |         |            |\n",
            "|null|IMPLANTACION DE CATETER VENOSO SUBCLAVIO O FEMORAL APLICA PARA CATETER YUGULAR|TUMOR MALIGNO DEL LABIO                                                     |null|            |       |     |      |       |         |            |\n",
            "|null|IMPLANTACION DE CATETER VENOSO SUBCLAVIO O FEMORAL APLICA PARA CATETER YUGULAR|TUMOR MALIGNO DEL LABIO                                                     |null|            |       |     |      |       |         |            |\n",
            "|null|IMPLANTACION DE CATETER VENOSO SUBCLAVIO O FEMORAL APLICA PARA CATETER YUGULAR|TUMOR MALIGNO DEL LABIO                                                     |null|            |       |     |      |       |         |            |\n",
            "|null|IMPLANTACION DE CATETER VENOSO SUBCLAVIO O FEMORAL APLICA PARA CATETER YUGULAR|TUMOR MALIGNO DEL LABIO                                                     |null|            |       |     |      |       |         |            |\n",
            "|null|IMPLANTACION DE CATETER VENOSO SUBCLAVIO O FEMORAL APLICA PARA CATETER YUGULAR|TUMOR MALIGNO DEL LABIO                                                     |null|            |       |     |      |       |         |            |\n",
            "|null|IMPLANTACION DE CATETER VENOSO SUBCLAVIO O FEMORAL APLICA PARA CATETER YUGULAR|TUMOR MALIGNO DEL LABIO                                                     |null|            |       |     |      |       |         |            |\n",
            "|null|IMPLANTACION DE CATETER VENOSO SUBCLAVIO O FEMORAL APLICA PARA CATETER YUGULAR|TUMOR MALIGNO DEL COLON                                                     |null|            |       |     |      |       |         |            |\n",
            "|null|IMPLANTACION DE CATETER VENOSO SUBCLAVIO O FEMORAL APLICA PARA CATETER YUGULAR|TUMOR MALIGNO DEL COLON                                                     |null|            |       |     |      |       |         |            |\n",
            "|null|IMPLANTACION DE CATETER VENOSO SUBCLAVIO O FEMORAL APLICA PARA CATETER YUGULAR|TUMOR MALIGNO DEL COLON                                                     |null|            |       |     |      |       |         |            |\n",
            "|null|IMPLANTACION DE CATETER VENOSO SUBCLAVIO O FEMORAL APLICA PARA CATETER YUGULAR|TUMOR MALIGNO DEL COLON                                                     |null|            |       |     |      |       |         |            |\n",
            "|null|IMPLANTACION DE CATETER VENOSO SUBCLAVIO O FEMORAL APLICA PARA CATETER YUGULAR|TUMOR MALIGNO DEL COLON                                                     |null|            |       |     |      |       |         |            |\n",
            "|null|IMPLANTACION DE CATETER VENOSO SUBCLAVIO O FEMORAL APLICA PARA CATETER YUGULAR|TUMOR MALIGNO DEL COLON                                                     |null|            |       |     |      |       |         |            |\n",
            "|null|IMPLANTACION DE CATETER VENOSO SUBCLAVIO O FEMORAL APLICA PARA CATETER YUGULAR|TUMOR MALIGNO DEL COLON                                                     |null|            |       |     |      |       |         |            |\n",
            "+----+------------------------------------------------------------------------------+----------------------------------------------------------------------------+----+------------+-------+-----+------+-------+---------+------------+\n",
            "\n"
          ]
        }
      ]
    },
    {
      "cell_type": "markdown",
      "source": [
        "Se observa, que todas las columnas menos Cirugia y Diagnostico Agrupado tienen informacion nula o vacia. Dado esto, y que no se tiene informacion en mas del 50% del total de las variables, se decide eliminar estos datos"
      ],
      "metadata": {
        "id": "rfELM47yLX10"
      }
    },
    {
      "cell_type": "code",
      "source": [
        "df_transform = pacientes_df.na.drop(subset=[\"Año\"])\n",
        "print(\"Despues de quitar los nulos, se tienen {} registros nulos\".format(df_transform.filter(col(\"Año\").isNull()).count()))"
      ],
      "metadata": {
        "colab": {
          "base_uri": "https://localhost:8080/"
        },
        "id": "WJi9SOLjL2XA",
        "outputId": "cf3e304b-f71e-47b3-941c-4a141f2052ec"
      },
      "execution_count": 45,
      "outputs": [
        {
          "output_type": "stream",
          "name": "stdout",
          "text": [
            "Despues de quitar los nulos, se tienen 0 registros nulos\n"
          ]
        }
      ]
    },
    {
      "cell_type": "markdown",
      "metadata": {
        "id": "HGwierHTLFt3"
      },
      "source": [
        "##**B) Análisis por rango de edad**\n",
        "\n",
        "Identifique las 5 cirugías mas frecuentes para los mayores de 80 años y para los menores de 20 años, indicando la influencia del género para cada grupo de edad "
      ]
    },
    {
      "cell_type": "code",
      "source": [
        "from pyspark.sql.window import Window\n",
        "from pyspark.sql.functions import count\n",
        "\n",
        "windowSpecCirugia  = Window.partitionBy(\"Cirugia\")\n",
        "windowSpecCirugiaGenero  = Window.partitionBy(\"Cirugia\", \"Genero\")\n",
        "\n",
        "df_group_age_80 = df_transform \\\n",
        "                .filter(col(\"Edad\")>80) \\\n",
        "                .withColumn(\"total_cirugia\",count(col(\"Cirugia\")).over(windowSpecCirugia)) \\\n",
        "                .withColumn(\"total_genero\",count(col(\"Genero\")).over(windowSpecCirugiaGenero))\n",
        "\n",
        "list_top_5_counts = df_group_age_80.select(\"total_cirugia\").orderBy(col(\"total_cirugia\").desc()).distinct().limit(5).rdd.map(lambda x: x[0]).collect()\n",
        "df_group_age_80_top_5 = df_group_age_80.filter(col(\"total_cirugia\").isin(list_top_5_counts)) \\\n",
        "                        .select(col(\"Cirugia\"), col(\"Genero\"), col(\"total_cirugia\"), col(\"total_genero\")) \\\n",
        "                        .distinct()\n",
        "df_group_age_80_top_5_total = df_group_age_80_top_5.select(\"Cirugia\", \"total_cirugia\").distinct().orderBy(col(\"total_cirugia\").desc() )\n",
        "df_group_age_80_top_5_total.show()\n",
        "\n",
        "df_group_age_80_top_5_total_sex = df_group_age_80_top_5.select(\"Cirugia\", \"Genero\", \"total_genero\").distinct().orderBy(col(\"Cirugia\").desc() )\n",
        "df_group_age_80_top_5_total_sex.show(100)"
      ],
      "metadata": {
        "colab": {
          "base_uri": "https://localhost:8080/"
        },
        "id": "UlLZiw4SL1p0",
        "outputId": "8175a5f3-7ab3-4f96-b5d2-5c7ec1c731f0"
      },
      "execution_count": 97,
      "outputs": [
        {
          "output_type": "stream",
          "name": "stdout",
          "text": [
            "+--------------------+-------------+\n",
            "|             Cirugia|total_cirugia|\n",
            "+--------------------+-------------+\n",
            "|   TRAQUEOSTOMIA SOD|           26|\n",
            "|CISTOSCOPIA TRANS...|           22|\n",
            "|TIROIDECTOMIA TOT...|           19|\n",
            "|RESECCION DE TUMO...|            7|\n",
            "|RESECCCION  O ENU...|            6|\n",
            "|HEMICOLECTOMIA DE...|            6|\n",
            "|RECONSTRUCCION DE...|            6|\n",
            "|COLECTOMIA PARCIA...|            6|\n",
            "|RESECCION ENDOSCO...|            6|\n",
            "|OMENTECTOMIA PARCIAL|            6|\n",
            "|GASTROENTEROANAST...|            6|\n",
            "|RESECCION INTESTI...|            6|\n",
            "|EXTERIORIZACION D...|            6|\n",
            "|RESECCION TUMOR M...|            6|\n",
            "|LEGRADO UTERINO G...|            6|\n",
            "+--------------------+-------------+\n",
            "\n",
            "+--------------------+------+------------+\n",
            "|             Cirugia|Genero|total_genero|\n",
            "+--------------------+------+------------+\n",
            "|   TRAQUEOSTOMIA SOD|     F|          11|\n",
            "|   TRAQUEOSTOMIA SOD|     M|          15|\n",
            "|TIROIDECTOMIA TOT...|     F|          16|\n",
            "|TIROIDECTOMIA TOT...|     M|           3|\n",
            "|RESECCION TUMOR M...|     M|           6|\n",
            "|RESECCION INTESTI...|     F|           6|\n",
            "|RESECCION ENDOSCO...|     M|           6|\n",
            "|RESECCION DE TUMO...|     F|           4|\n",
            "|RESECCION DE TUMO...|     M|           3|\n",
            "|RESECCCION  O ENU...|     M|           6|\n",
            "|RECONSTRUCCION DE...|     M|           6|\n",
            "|OMENTECTOMIA PARCIAL|     M|           6|\n",
            "|LEGRADO UTERINO G...|     F|           6|\n",
            "|HEMICOLECTOMIA DE...|     M|           3|\n",
            "|HEMICOLECTOMIA DE...|     F|           3|\n",
            "|GASTROENTEROANAST...|     M|           3|\n",
            "|GASTROENTEROANAST...|     F|           3|\n",
            "|EXTERIORIZACION D...|     F|           6|\n",
            "|COLECTOMIA PARCIA...|     M|           3|\n",
            "|COLECTOMIA PARCIA...|     F|           3|\n",
            "|CISTOSCOPIA TRANS...|     F|           6|\n",
            "|CISTOSCOPIA TRANS...|     M|          16|\n",
            "+--------------------+------+------------+\n",
            "\n"
          ]
        }
      ]
    },
    {
      "cell_type": "markdown",
      "source": [
        "Se observa en la tabla anterior el total de cirugias que se han hecho para una determinada cirugia en personas mayores a 80 anios, con la cantidad de generos F y M por cirugia. Es curioso, ver que claramente existe un top 4 (TRAQUEOSTOMIA SOD, CISTOSCOPIA TRANS, TIROIDECTOMIA TOT, RESECCION DE TUMO). Sin embargo, para la 5ta mas popular, existen varias mas que se repiten con la misma frecuencia, por lo que no es claro definir cual es la mas popular. Se observa una diferencia considerable en el sexo para CISTOSCOPIA TRANS, con un desbalance de 16 a 6 para hombres y mujeres. Lo mismo sucede con TIROIDECTOMIA TOT presentandose el mayor numero de cirugias para mujeres. Para las demas, el comportamiento parece ser similar"
      ],
      "metadata": {
        "id": "Qpr_0ZrAUb9a"
      }
    },
    {
      "cell_type": "code",
      "source": [
        "df_group_age_20 = df_transform \\\n",
        "                .filter(col(\"Edad\")<20) \\\n",
        "                .withColumn(\"total_cirugia\",count(col(\"Cirugia\")).over(windowSpecCirugia)) \\\n",
        "                .withColumn(\"total_genero\",count(col(\"Genero\")).over(windowSpecCirugiaGenero))\n",
        "\n",
        "list_top_5_counts = df_group_age_20.select(\"total_cirugia\").orderBy(col(\"total_cirugia\").desc()).distinct().limit(5).rdd.map(lambda x: x[0]).collect()\n",
        "df_group_age_20_top_5 = df_group_age_20.filter(col(\"total_cirugia\").isin(list_top_5_counts)) \\\n",
        "                        .select(col(\"Cirugia\"), col(\"Genero\"), col(\"total_cirugia\"), col(\"total_genero\")) \\\n",
        "                        .distinct()\n",
        "df_group_age_20_top_5_total = df_group_age_20_top_5.select(\"Cirugia\", \"total_cirugia\").distinct().orderBy(col(\"total_cirugia\").desc() )\n",
        "df_group_age_20_top_5_total.show(100, False)\n",
        "\n",
        "df_group_age_20_top_5_total_sex = df_group_age_20_top_5.select(\"Cirugia\", \"Genero\", \"total_genero\").distinct().orderBy(col(\"Cirugia\").desc() )\n",
        "df_group_age_20_top_5_total_sex.show(100, False)"
      ],
      "metadata": {
        "colab": {
          "base_uri": "https://localhost:8080/"
        },
        "id": "JsynN2b_VnA_",
        "outputId": "793cb453-7019-4ed6-f5e8-5b360454c75b"
      },
      "execution_count": 102,
      "outputs": [
        {
          "output_type": "stream",
          "name": "stdout",
          "text": [
            "+------------------------------------------------------------------------------------------------------------------------------------------+-------------+\n",
            "|Cirugia                                                                                                                                   |total_cirugia|\n",
            "+------------------------------------------------------------------------------------------------------------------------------------------+-------------+\n",
            "|RESECCION DE TUMOR DE LINEA MEDIA SUPRATENTORIAL POR CRANEOTOMIA                                                                          |9            |\n",
            "|LOBECTOMIA POR CRANEOTOMIA SOD                                                                                                            |9            |\n",
            "|PLASTIA O INJERTO DE MENINGE ESPINAL                                                                                                      |7            |\n",
            "|RESECCION DE TUMOR DE LA BASE DEL CRANEO FOSA POSTERIOR POR VIA SUBOCCIPITAL RETROMASTOIDEA                                               |6            |\n",
            "|RESECCION DE TUMOR  INTRADURAL INTRAMEDULAR POR VIA POSTERIOR                                                                             |6            |\n",
            "|COLOCACION DE CATETER VENTRICULAR AL EXTERIOR                                                                                             |5            |\n",
            "|CORRECCION DE DEFECTO OSEO PREEXISTENTE POR CRANEOPLASTIA CON INJERTO AUTOLOGO O HETEROLOGO                                               |5            |\n",
            "|ESOFAGOGASTRODUODENOSCOPIA [EGD] CON BIOPSIA CERRADA SOD INCLUYE BIOPSIAS DE UNO O MAS LUGARES QUE AFECTAN EL ESOFAGO ESTOMAGO Y/O DUODENO|1            |\n",
            "+------------------------------------------------------------------------------------------------------------------------------------------+-------------+\n",
            "\n",
            "+------------------------------------------------------------------------------------------------------------------------------------------+------+------------+\n",
            "|Cirugia                                                                                                                                   |Genero|total_genero|\n",
            "+------------------------------------------------------------------------------------------------------------------------------------------+------+------------+\n",
            "|RESECCION DE TUMOR DE LINEA MEDIA SUPRATENTORIAL POR CRANEOTOMIA                                                                          |F     |4           |\n",
            "|RESECCION DE TUMOR DE LINEA MEDIA SUPRATENTORIAL POR CRANEOTOMIA                                                                          |M     |5           |\n",
            "|RESECCION DE TUMOR DE LA BASE DEL CRANEO FOSA POSTERIOR POR VIA SUBOCCIPITAL RETROMASTOIDEA                                               |M     |6           |\n",
            "|RESECCION DE TUMOR  INTRADURAL INTRAMEDULAR POR VIA POSTERIOR                                                                             |M     |6           |\n",
            "|PLASTIA O INJERTO DE MENINGE ESPINAL                                                                                                      |F     |4           |\n",
            "|PLASTIA O INJERTO DE MENINGE ESPINAL                                                                                                      |M     |3           |\n",
            "|LOBECTOMIA POR CRANEOTOMIA SOD                                                                                                            |M     |9           |\n",
            "|ESOFAGOGASTRODUODENOSCOPIA [EGD] CON BIOPSIA CERRADA SOD INCLUYE BIOPSIAS DE UNO O MAS LUGARES QUE AFECTAN EL ESOFAGO ESTOMAGO Y/O DUODENO|F     |1           |\n",
            "|CORRECCION DE DEFECTO OSEO PREEXISTENTE POR CRANEOPLASTIA CON INJERTO AUTOLOGO O HETEROLOGO                                               |M     |5           |\n",
            "|COLOCACION DE CATETER VENTRICULAR AL EXTERIOR                                                                                             |M     |5           |\n",
            "+------------------------------------------------------------------------------------------------------------------------------------------+------+------------+\n",
            "\n"
          ]
        }
      ]
    },
    {
      "cell_type": "markdown",
      "source": [
        "Se observa en la tabla anterior el total de cirugias que se han hecho para una determinada cirugia en personas menores de 20 anios, con la cantidad de generos F y M por cirugia. \n",
        "Se evicencia el top 5 (en contraste con el top anterior), teniendose varias cirugias con la misma frecuencia (top 5: RESECCION DE TUMOR DE LINEA MEDIA SUPRATENTORIAL POR CRANEOTOMIA, LOBECTOMIA POR CRANEOTOMIA SOD, PLASTIA O INJERTO DE MENINGE ESPINAL, RESECCION DE TUMOR DE LA BASE DEL CRANEO FOSA POSTERIOR POR VIA SUBOCCIPITAL RETROMASTOIDEA , RESECCION DE TUMOR  INTRADURAL INTRAMEDULAR POR VIA POSTERIOR).  \n",
        "Se observa la influencia en genero para la LOBECTOMIA POR CRANEOTOMIA SOD y RESECCION DE TUMOR  INTRADURAL INTRAMEDULAR POR VIA POSTERIOR, RESECCION DE TUMOR DE LA BASE DEL CRANEO FOSA POSTERIOR POR VIA SUBOCCIPITAL RETROMASTOIDEA  se reportan datos solo para hombres. De resto, no se observa una diferencia significativa\n"
      ],
      "metadata": {
        "id": "T_mNzenchHSR"
      }
    },
    {
      "cell_type": "markdown",
      "source": [],
      "metadata": {
        "id": "1wuSOQcVfjn9"
      }
    },
    {
      "cell_type": "markdown",
      "metadata": {
        "id": "PfNZA5UdNPbv"
      },
      "source": [
        "Presente aquí el código desarrollado y el resultado obtenido"
      ]
    },
    {
      "cell_type": "markdown",
      "metadata": {
        "id": "WlI7cjLXLdlQ"
      },
      "source": [
        "##**C) Análisis por diagnóstico**\n",
        "\n",
        "Identifique los cinco tipos de diagnóstico más comunes y para ellos presente el promedio de edad por género y Subregión"
      ]
    },
    {
      "cell_type": "markdown",
      "metadata": {
        "id": "bSlgm0j-NQjn"
      },
      "source": [
        "Presente aquí el código desarrollado y el resultado obtenido"
      ]
    },
    {
      "cell_type": "markdown",
      "metadata": {
        "id": "pDX41ab4LO7g"
      },
      "source": [
        "##**D) Análisis por estrato y estado civil**\n",
        "\n",
        "Identifique para el total de pacientes, cuáles son los 5 tipos de cirugías más frecuentes. Para cada tipo de cirugía calcule el porcentaje de ocurrencia para las variables estrato y estado civil"
      ]
    },
    {
      "cell_type": "markdown",
      "metadata": {
        "id": "xWQkDcDZNRVa"
      },
      "source": [
        "Presente aquí el código desarrollado y el resultado obtenido"
      ]
    },
    {
      "cell_type": "markdown",
      "metadata": {
        "id": "T89Y60StLUuh"
      },
      "source": [
        "##**E) Seguimiento de las cirugías en el tiempo**\n",
        "\n",
        "Para los cinco tipos de cirugías más frecuentes, verifique si los casos han aumentado o disminuido en los últimos cinco años.\n",
        "Para cada cirugía presente el promedio de edad de los pacientes por género en cada año"
      ]
    },
    {
      "cell_type": "markdown",
      "metadata": {
        "id": "xHtI3jGcNTNn"
      },
      "source": [
        "Presente aquí el código desarrollado y el resultado obtenido"
      ]
    },
    {
      "cell_type": "markdown",
      "metadata": {
        "id": "j1LlOYfTNVsn"
      },
      "source": [
        "#**Notas:**\n",
        "\n",
        "* Analice los resultados de cada punto y presente sus conclusiones\n",
        "* Utilice al menos una vez cada uno de los siguientes métodos\n",
        "\n",
        "  *   agg\n",
        "  *   withColumn\n",
        "  *   groupBy\n",
        "  *   sql\n",
        "  *   registerFunction\n",
        "\n"
      ]
    }
  ]
}